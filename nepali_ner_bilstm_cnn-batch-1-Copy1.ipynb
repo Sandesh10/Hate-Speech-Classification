{
 "cells": [
  {
   "cell_type": "code",
   "execution_count": 16,
   "metadata": {},
   "outputs": [],
   "source": [
    "import sys\n",
    "\n",
    "sys.path.insert(0, \"./Desktop/nepali-ner/\")"
   ]
  },
  {
   "cell_type": "code",
   "execution_count": 17,
   "metadata": {},
   "outputs": [
    {
     "data": {
      "text/plain": [
       "'C:\\\\Users\\\\Sandesh\\\\Desktop\\\\nepali-ner'"
      ]
     },
     "execution_count": 17,
     "metadata": {},
     "output_type": "execute_result"
    }
   ],
   "source": [
    "import os\n",
    "os.chdir(\"C:\\\\Users\\\\Sandesh\\\\Desktop\\\\nepali-ner\\\\\")\n",
    "os.getcwd()"
   ]
  },
  {
   "cell_type": "code",
   "execution_count": 18,
   "metadata": {},
   "outputs": [
    {
     "name": "stdout",
     "output_type": "stream",
     "text": [
      "cpu\n"
     ]
    }
   ],
   "source": [
    "'''\n",
    "    Nepali NER for PERSON, ORGANIZATION, LOCATION\n",
    "    \n",
    "    Nepali BiLSTM CNN\n",
    "    \n",
    "    Author - Oyesh Mann Singh\n",
    "    Data - 05/03/2019\n",
    "'''\n",
    "import os\n",
    "\n",
    "import torch\n",
    "import torch.nn as nn\n",
    "import torch.nn.functional as F\n",
    "import torch.optim as optim\n",
    "\n",
    "torch.manual_seed(142)\n",
    "\n",
    "import random\n",
    "import numpy as np\n",
    "import pandas as pd\n",
    "\n",
    "import torchtext\n",
    "from torchtext import data\n",
    "from torchtext import vocab\n",
    "from torchtext import datasets\n",
    "from torchtext.datasets import SequenceTaggingDataset\n",
    "\n",
    "from tqdm import tqdm, tqdm_notebook, tnrange\n",
    "tqdm.pandas(desc='Progress')\n",
    "\n",
    "from sklearn.metrics import accuracy_score\n",
    "from sklearn.metrics import confusion_matrix\n",
    "\n",
    "import matplotlib.pyplot as plt\n",
    "from utils import conll_eval as e\n",
    "import sys, unicodedata\n",
    "\n",
    "from gensim.models import Word2Vec, KeyedVectors\n",
    "import csv\n",
    "\n",
    "device = torch.device(\"cuda:0\" if torch.cuda.is_available() else \"cpu\")\n",
    "print(device)"
   ]
  },
  {
   "cell_type": "code",
   "execution_count": 19,
   "metadata": {},
   "outputs": [],
   "source": [
    "# txt_field = data.Field(tokenize=list, use_vocab=True, init_token='<init>', eos_token='<eos>')\n",
    "# label_field = data.Field(unk_token=None, init_token='<init>', eos_token='<eos>')\n",
    "\n",
    "def split_into_char(x):\n",
    "    return x.split()\n",
    "\n",
    "txt_field = data.Field(tokenize=list, use_vocab=True)\n",
    "pos_field = data.Field(unk_token=None)\n",
    "label_field = data.Field(unk_token=None)\n",
    "char_field = data.Field(unk_token='<unk>', sequential=False)\n",
    "graph_field = data.Field(unk_token='<unk>', sequential=False)\n",
    "\n",
    "fields = (('TEXT', txt_field),('POS', pos_field),('TAG', label_field))\n",
    "\n",
    "# root_path='../data/ner/nepaliner/after_stemming/'\n",
    "root_path='./data/ebiquity/sandesh/1/'\n",
    "\n",
    "train_ds, val_ds, test_ds = SequenceTaggingDataset.splits(path=root_path,\n",
    "                                                 fields=fields,\n",
    "                                                 separator='\\t',\n",
    "                                                 train='train.txt', validation='val.txt', test='test.txt')\n",
    "\n",
    "nep2vec = './embeddings/fasttext/'\n",
    "# nep2glove='../data/glove'\n",
    "nep2ft='./embeddings/fasttext/'\n",
    "\n",
    "# vec = vocab.Vectors(name='nep2vec_clean', cache=nep2vec)\n",
    "# vec = vocab.Vectors(name='nep2glove-stem.txt', cache=nep2glove)\n",
    "vec = vocab.Vectors(name='nep2ft.vec', cache=nep2ft)\n",
    "\n",
    "txt_field.build_vocab(train_ds, test_ds, val_ds, max_size=None, vectors=vec)\n",
    "label_field.build_vocab(train_ds.TAG, test_ds.TAG, val_ds.TAG)\n",
    "pos_field.build_vocab(train_ds.POS, test_ds.POS, val_ds.POS)"
   ]
  },
  {
   "cell_type": "code",
   "execution_count": 20,
   "metadata": {},
   "outputs": [
    {
     "name": "stdout",
     "output_type": "stream",
     "text": [
      "Length of text vocab =  12435\n",
      "Length of NER label vocab =  5\n",
      "Length of POS vocab =  69\n"
     ]
    }
   ],
   "source": [
    "# for i in range(len(txt_field.vocab)):\n",
    "#     print(txt_field.vocab.itos[i])\n",
    "\n",
    "print('Length of text vocab = ',len(txt_field.vocab))\n",
    "print('Length of NER label vocab = ',len(label_field.vocab))\n",
    "print('Length of POS vocab = ',len(pos_field.vocab))"
   ]
  },
  {
   "cell_type": "code",
   "execution_count": 21,
   "metadata": {},
   "outputs": [
    {
     "name": "stdout",
     "output_type": "stream",
     "text": [
      "[',', '-', '.', 'ँ', 'ं', 'ः', 'अ', 'आ', 'इ', 'ई', 'उ', 'ऊ', 'ऋ', 'ए', 'ऐ', 'ओ', 'औ', 'क', 'ख', 'ग', 'घ', 'ङ', 'च', 'छ', 'ज', 'झ', 'ञ', 'ट', 'ठ', 'ड', 'ढ', 'ण', 'त', 'थ', 'द', 'ध', 'न', 'प', 'फ', 'ब', 'भ', 'म', 'य', 'र', 'ल', 'व', 'श', 'ष', 'स', 'ह', 'ा', 'ि', 'ी', 'ु', 'ू', 'ृ', 'े', 'ै', 'ो', 'ौ', '्', '।']\n",
      "63\n",
      "62\n"
     ]
    }
   ],
   "source": [
    "char_list = []\n",
    "for each in train_ds.examples + test_ds.examples + val_ds.examples:\n",
    "    for x in each.TEXT:\n",
    "        char_list+=list(x)\n",
    "char_list = list(set(char_list))\n",
    "\n",
    "char_list.sort()\n",
    "\n",
    "print(char_list)\n",
    "\n",
    "char_field.build_vocab(char_list)\n",
    "char_vocab_length = len(char_field.vocab)\n",
    "print(len(char_field.vocab))\n",
    "print(len(char_list))\n",
    "\n",
    "with open(root_path+'characters.txt', 'w', encoding='utf-8') as f:\n",
    "    for item in char_list:\n",
    "        f.write(item+' ')"
   ]
  },
  {
   "cell_type": "markdown",
   "metadata": {},
   "source": [
    "### Read character level file"
   ]
  },
  {
   "cell_type": "code",
   "execution_count": 22,
   "metadata": {},
   "outputs": [
    {
     "name": "stdout",
     "output_type": "stream",
     "text": [
      "[',', '-', '.', 'ँ', 'ं', 'ः', 'अ', 'आ', 'इ', 'ई', 'उ', 'ऊ', 'ऋ', 'ए', 'ऐ', 'ओ', 'औ', 'क', 'ख', 'ग', 'घ', 'ङ', 'च', 'छ', 'ज', 'झ', 'ञ', 'ट', 'ठ', 'ड', 'ढ', 'ण', 'त', 'थ', 'द', 'ध', 'न', 'प', 'फ', 'ब', 'भ', 'म', 'य', 'र', 'ल', 'व', 'श', 'ष', 'स', 'ह', 'ा', 'ि', 'ी', 'ु', 'ू', 'ृ', 'े', 'ै', 'ो', 'ौ', '्', '।']\n",
      "Length of character vocab =  63\n"
     ]
    }
   ],
   "source": [
    "with open(root_path+'characters.txt', 'r', encoding='utf-8') as f:\n",
    "    char_list = f.read().strip().split()\n",
    "    print(char_list)\n",
    "    \n",
    "char_field.build_vocab(char_list)\n",
    "char_vocab_length = len(char_field.vocab)\n",
    "print('Length of character vocab = ',len(char_field.vocab))"
   ]
  },
  {
   "cell_type": "code",
   "execution_count": 23,
   "metadata": {},
   "outputs": [
    {
     "name": "stdout",
     "output_type": "stream",
     "text": [
      "635\n"
     ]
    }
   ],
   "source": [
    "# Create a file full of grapheme cluster and just read those\n",
    "from uniseg.graphemecluster import grapheme_clusters\n",
    "graph_list = []\n",
    "for each in train_ds.examples + test_ds.examples + val_ds.examples:\n",
    "    for x in each.TEXT:\n",
    "        graph_list+=list(grapheme_clusters(x))\n",
    "graph_list = list(set(graph_list))\n",
    "graph_list.sort()\n",
    "\n",
    "graph_field.build_vocab(graph_list)\n",
    "print(len(graph_field.vocab))\n",
    "graph_vocab_length = len(graph_field.vocab)\n",
    "# for i in range(0, len(graph_field.vocab)):\n",
    "#     print(i, graph_field.vocab.itos[i])\n",
    "\n",
    "with open(root_path+'grapheme.txt', 'w', encoding='utf-8') as f:\n",
    "    for item in graph_list:\n",
    "        f.write(item+' ')"
   ]
  },
  {
   "cell_type": "markdown",
   "metadata": {},
   "source": [
    "### Read grapheme level file"
   ]
  },
  {
   "cell_type": "code",
   "execution_count": 24,
   "metadata": {},
   "outputs": [
    {
     "name": "stdout",
     "output_type": "stream",
     "text": [
      "[',', '-', '.', 'ँ', 'ः', 'अ', 'अँ', 'अं', 'अि', 'आ', 'आँ', 'आं', 'इ', 'इँ', 'ई', 'ईं', 'उ', 'उँ', 'उं', 'उा', 'ऊ', 'ऋ', 'ए', 'एँ', 'एि', 'ऐ', 'ओ', 'औ', 'औँ', 'औं', 'क', 'कँ', 'कं', 'कः', 'का', 'काँ', 'कां', 'काे', 'कि', 'किँ', 'किं', 'किा', 'किी', 'की', 'कु', 'कुँ', 'कुं', 'कू', 'कृ', 'के', 'केा', 'केे', 'कै', 'को', 'कौ', 'कौं', 'क्', 'ख', 'खँ', 'खं', 'खा', 'खाँ', 'खां', 'खि', 'खिँ', 'खिं', 'खी', 'खु', 'खे', 'खेँ', 'खै', 'खो', 'खौं', 'ख्', 'ग', 'गं', 'गा', 'गाँ', 'गां', 'गि', 'गिँ', 'गि्', 'गी', 'गु', 'गुँ', 'गू', 'गृ', 'गे', 'गे्', 'गै', 'गो', 'गौ', 'ग्', 'घ', 'घा', 'घाँ', 'घि', 'घी', 'घु', 'घुँ', 'घुं', 'घे', 'घै', 'घो', 'घ्', 'ङ', 'ङि्', 'ङी', 'ङे', 'ङ्', 'च', 'चं', 'चा', 'चाँ', 'चि', 'चिा', 'ची', 'चु', 'चुँ', 'चू', 'चे', 'चेे', 'चै', 'चैा', 'चो', 'चौ', 'चौँ', 'चौं', 'च्', 'छ', 'छँ', 'छः', 'छा', 'छि', 'छी', 'छु', 'छू', 'छृ', 'छे', 'छै', 'छो', 'छौ', 'छौँ', 'छौं', 'छ्', 'ज', 'जं', 'जा', 'जाँ', 'जि', 'जिा', 'जि्', 'जी', 'जु', 'जू', 'जे', 'जै', 'जो', 'जोे', 'ज्', 'झ', 'झँि', 'झा', 'झि', 'झी', 'झु', 'झू', 'झे', 'झै', 'झैं', 'झो', 'झौ', 'झ्', 'ञ', 'ञा', 'ञि', 'ञ्', 'ट', 'टं', 'टा', 'टाँ', 'टि', 'टिं', 'टिी', 'टि्', 'टी', 'टीा', 'टीी', 'टीे', 'टु', 'टुं', 'टू', 'टे', 'टे्', 'टै', 'टैं', 'टो', 'टौ', 'टौं', 'ट्', 'ठ', 'ठा', 'ठाँ', 'ठि', 'ठी', 'ठू', 'ठे', 'ठै', 'ठो', 'ठौ', 'ठौं', 'ठ्', 'ड', 'डं', 'डा', 'डाँ', 'डाै', 'डि', 'डि्', 'डी', 'डु', 'डुं', 'डे', 'डै', 'डो', 'डौ', 'डौँ', 'डौं', 'ड्', 'ढ', 'ढं', 'ढा', 'ढाँ', 'ढि', 'ढी', 'ढु', 'ढुं', 'ढू', 'ढे', 'ढो', 'ढोँ', 'ढ्', 'ण', 'णा', 'णाा', 'णि', 'णी', 'णु', 'णे', 'णो', 'ण्', 'ण्िा', 'ण्िाा', 'त', 'तँ', 'तँे', 'तं', 'तः', 'ता', 'ताँ', 'ति', 'तिा', 'ती', 'तु', 'तू', 'तृ', 'ते', 'तै', 'तैं', 'तो', 'तौ', 'तौँ', 'तौं', 'त्', 'त्ि', 'त्िा', 'थ', 'था', 'थाः', 'थि', 'थी', 'थु', 'थुं', 'थे', 'थे्', 'थै', 'थो', 'थ्', 'द', 'दँ', 'दं', 'दा', 'दाँ', 'दि', 'दिँ', 'दिं', 'दि्', 'दी', 'दु', 'दुः', 'दू', 'दृ', 'दे', 'दै', 'दो', 'दौ', 'द्', 'ध', 'धँ', 'धा', 'धाँ', 'धि', 'धी', 'धु', 'धु्', 'धू', 'धृ', 'धे', 'धै', 'धैँ', 'धैं', 'धो', 'धौ', 'ध्', 'न', 'नँ', 'नँै', 'नं', 'नः', 'ना', 'नां', 'नि', 'निँ', 'निः', 'निा', 'निु', 'निे', 'नि्', 'नी', 'नु', 'नू', 'नृ', 'ने', 'नेँ', 'नें', 'नै', 'नो', 'नौ', 'नौँ', 'नौं', 'न्', 'प', 'पं', 'पा', 'पाँ', 'पां', 'पि', 'पिँ', 'पि्', 'पी', 'पु', 'पुँ', 'पू', 'पूँ', 'पूं', 'पृ', 'पे', 'पै', 'पैं', 'पो', 'पौ', 'प्', 'फ', 'फा', 'फाँ', 'फि', 'फी', 'फु', 'फू', 'फे', 'फै', 'फैँ', 'फैं', 'फो', 'फौ', 'फ्', 'ब', 'बं', 'बा', 'बाँ', 'बां', 'बि', 'बिे', 'बि्', 'बी', 'बु', 'बुँ', 'बू', 'बृ', 'बे', 'बै', 'बैँ', 'बैं', 'बो', 'बौ', 'ब्', 'भ', 'भं', 'भा', 'भाँ', 'भि', 'भिा', 'भी', 'भु', 'भू', 'भृ', 'भे', 'भै', 'भो', 'भों', 'भौ', 'भौं', 'भ्', 'भ्ः', 'म', 'मं', 'मः', 'मा', 'माँ', 'मां', 'माा', 'मि', 'मिा', 'मी', 'मु', 'मू', 'मृ', 'मे', 'मै', 'मो', 'मौ', 'म्', 'य', 'यँ', 'यं', 'यः', 'या', 'याँ', 'यां', 'यि', 'यिा', 'यिो', 'यी', 'यु', 'युँ', 'यू', 'ये', 'यै', 'यो', 'यौ', 'यौँ', 'यौं', 'य्', 'र', 'रँ', 'रँे', 'रं', 'रा', 'राँ', 'रां', 'रि', 'रिँ', 'रिं', 'रिि', 'रिे', 'रि्', 'री', 'रु', 'रुं', 'रू', 'रृ', 'रे', 'रेँ', 'रें', 'रे्', 'रै', 'रो', 'रौ', 'रौँ', 'रौं', 'र्', 'र्ँ', 'र्ं', 'र्ा', 'र्ाा', 'र्ी', 'र्ीी', 'र्ु', 'र्ुु', 'र्ू', 'र्े', 'र्ै', 'र््', 'ल', 'लं', 'ला', 'लाँ', 'लि', 'लिँ', 'लिं', 'लिा', 'लिो', 'ली', 'लु', 'लुँ', 'लू', 'ले', 'लै', 'लैं', 'लो', 'लौ', 'ल्', 'ल्ा', 'व', 'वं', 'वः', 'वा', 'वाँ', 'वां', 'वि', 'विा', 'विे', 'वी', 'वु', 'वृ', 'वे', 'वै', 'वो', 'वौ', 'वौं', 'व्', 'श', 'शं', 'शः', 'शा', 'शां', 'शि', 'शिं', 'शी', 'शु', 'शू', 'शृ', 'शृं', 'शे', 'शै', 'शो', 'शौ', 'शौं', 'श्', 'ष', 'षा', 'षाँ', 'षि', 'षी', 'षुँ', 'षे', 'षेँ', 'षै', 'षो', 'षों', 'षौ', 'षौं', 'ष्', 'ष्ँ', 'ष्ँा', 'ष्ँी', 'ष्ा', 'ष्िा', 'स', 'सँ', 'सं', 'सा', 'साँ', 'सां', 'सि', 'सिँ', 'सिं', 'सिा', 'सिो', 'सि्', 'सी', 'सु', 'सू', 'सृ', 'से', 'सै', 'सैं', 'सैा', 'सो', 'सौ', 'सौं', 'स्', 'स्ि', 'ह', 'हँ', 'हं', 'हा', 'हाँ', 'हां', 'हि', 'हिँ', 'हिं', 'हिा', 'ही', 'हीँ', 'हीं', 'हु', 'हुँ', 'हुं', 'हुा', 'हू', 'हृ', 'हे', 'हे्', 'है', 'हो', 'हौ', 'हौँ', 'हौं', 'ह्', 'ि', 'ी', 'ै', '।']\n",
      "Length of grapheme vocab =  644\n"
     ]
    }
   ],
   "source": [
    "# Create a file full of grapheme cluster and just read those\n",
    "from uniseg.graphemecluster import grapheme_clusters\n",
    "with open(root_path+'grapheme.txt', 'r', encoding='utf-8') as f:\n",
    "    graph_list = f.read().strip().split()\n",
    "    print(graph_list)\n",
    "    \n",
    "graph_list += char_list\n",
    "graph_list = set(graph_list)\n",
    "    \n",
    "graph_field.build_vocab(graph_list)\n",
    "graph_vocab_length = len(graph_field.vocab)\n",
    "print('Length of grapheme vocab = ',len(graph_field.vocab))"
   ]
  },
  {
   "cell_type": "code",
   "execution_count": 25,
   "metadata": {},
   "outputs": [],
   "source": [
    "# To verify the batch data\n",
    "def idxtosent(batch, idx):\n",
    "    '''\n",
    "        Returns the corresponding TEXT of given batch and index\n",
    "    '''      \n",
    "    return ' '.join([txt_field.vocab.itos[i] for i in batch.TEXT[idx].cpu().data.numpy()])\n",
    "\n",
    "\n",
    "def idxtotag(batch, idx):\n",
    "    '''\n",
    "        Returns the corresponding TAG of given batch and index\n",
    "    '''     \n",
    "    return ' '.join([label_field.vocab.itos[i] for i in batch.TAG[idx].cpu().data.numpy()])\n",
    "\n",
    "\n",
    "def tensortosent(tense):\n",
    "    '''\n",
    "        Returns the corresponding TEXT of given tensor\n",
    "    '''     \n",
    "    return ' '.join([txt_field.vocab.itos[i] for i in tense.cpu().data.numpy()])\n",
    "\n",
    "def tensortopos(tense):\n",
    "    '''\n",
    "        Returns the corresponding TEXT of given tensor\n",
    "    '''     \n",
    "    return ' '.join([pos_field.vocab.itos[i] for i in tense.cpu().data.numpy()])\n",
    "\n",
    "def tensortotag(tense):\n",
    "    '''\n",
    "        Returns the corresponding TEXT of given tensor\n",
    "    '''     \n",
    "    return ' '.join([label_field.vocab.itos[i] for i in tense.cpu().data.numpy()])\n",
    "\n",
    "def tensorToOneHot(tense):\n",
    "    '''\n",
    "        Returns the corresponding TEXT of given tensor\n",
    "    '''\n",
    "    try:\n",
    "        return pos_one_hot[tense.cpu().data.numpy()]\n",
    "    except ValueError:\n",
    "        return pos_one_host[-1]\n",
    "\n",
    "\n",
    "def NumpyToSent(tensor):\n",
    "    '''\n",
    "        Returns the corresponding TEXT of given Predictions\n",
    "        Returns chunks of string\n",
    "    '''    \n",
    "    return ' '.join([txt_field.vocab.itos[i[0]] for i in tensor.cpu().data.numpy()]).split()\n",
    "\n",
    "\n",
    "def PredToTag(predictions):\n",
    "    '''\n",
    "        Returns the corresponding TAGS of given Predictions\n",
    "        Returns chunks of string\n",
    "    '''\n",
    "    return ' '.join([label_field.vocab.itos[i] for i in predictions]).split()\n",
    "\n",
    "# Because len(pos) = 56 and len(pos_field.vocab) = 55\n",
    "n_values=len(pos_field.vocab)+2\n",
    "pos_one_hot = np.eye(n_values)\n",
    "one_hot_weight = torch.from_numpy(pos_one_hot).float()\n",
    "\n",
    "class BatchGenerator:\n",
    "    def __init__(self, dl, x_field, y_field, z_field):\n",
    "        self.dl, self.x_field, self.y_field, self.z_field = dl, x_field, y_field, z_field\n",
    "        \n",
    "    def __len__(self):\n",
    "        return len(self.dl)\n",
    "    \n",
    "    def __iter__(self):\n",
    "        for batch in self.dl:\n",
    "            X = getattr(batch, self.x_field)\n",
    "            y = getattr(batch, self.y_field)\n",
    "            z = getattr(batch, self.z_field)\n",
    "            yield ((X,y), z)\n",
    "\n",
    "def plot_loss(train_loss, val_loss, title):\n",
    "    plt.figure(figsize=[8,5])\n",
    "    plt.plot(train_loss)\n",
    "    plt.plot(val_loss)\n",
    "    plt.legend(['Training loss', 'Validation loss'])\n",
    "    plt.xlabel('Epochs')\n",
    "    plt.ylabel('Loss')\n",
    "    plt.title(title)\n",
    "    plt.show()\n",
    "    \n",
    "def save_checkpoint(model, opt, train_loss, train_acc, val_loss, val_acc, filename, epochs):\n",
    "    save_parameters = {'model': model,\n",
    "                       'state_dict':model.state_dict(),\n",
    "                       'opt':opt,\n",
    "                       'opt_state': opt.state_dict(),\n",
    "                      'train_loss' : train_loss,\n",
    "                      'train_acc' : train_acc,\n",
    "                      'val_loss' : val_loss,\n",
    "                      'val_acc' : val_acc,\n",
    "                      'epochs' : epochs}\n",
    "    torch.save(save_parameters, filename)\n",
    "    \n",
    "    \n",
    "def load_checkpoint(filename):\n",
    "    checkpoint = torch.load(filename)\n",
    "    model = checkpoint['model']\n",
    "    model.load_state_dict(checkpoint['state_dict'])\n",
    "    opt = checkpoint['opt']\n",
    "    opt.load_state_dict(checkpoint['opt_state'])\n",
    "    train_loss = checkpoint['train_loss']\n",
    "    train_acc = checkpoint['train_acc']\n",
    "    val_loss = checkpoint['val_loss']\n",
    "    val_acc = checkpoint['val_acc']\n",
    "    epochs = checkpoint['epochs']\n",
    "    \n",
    "    return model, opt, train_loss, train_acc, val_loss, val_acc, epochs\n",
    "\n",
    "def fit(model, train_dl, val_dl, loss_fn, opt, start_epoch, lstm_model_file, epochs=1):\n",
    "    total_train_loss = []\n",
    "    total_train_acc = []\n",
    "    total_val_loss = []\n",
    "    total_val_acc = []\n",
    "    num_batch = len(train_dl)\n",
    "    prev_lstm_val_acc=0.0\n",
    "    prev_val_loss=100.0\n",
    "    counter=0\n",
    "    patience_limit=10\n",
    "    for epoch in tnrange(start_epoch, epochs):      \n",
    "        z_true_train = list()\n",
    "        z_pred_train = list()\n",
    "        total_loss_train = 0          \n",
    "        \n",
    "        t = tqdm_notebook(iter(train_dl), leave=False, total=num_batch)\n",
    "        for ((X,y),z) in t:\n",
    "            t.set_description(f'Epoch {epoch+1}')\n",
    "            \n",
    "            opt.zero_grad()\n",
    "            pred = model(X, y)\n",
    "            \n",
    "            z = z.reshape(z.shape[0]*z.shape[1])\n",
    "            loss = loss_fn(pred, z)\n",
    "            loss.backward()\n",
    "            opt.step()\n",
    "            \n",
    "            t.set_postfix(loss=loss.item())\n",
    "            pred_idx = torch.max(pred, dim=1)[1]\n",
    "\n",
    "            \n",
    "            z_true_train += list(z.cpu().data.numpy())\n",
    "            z_pred_train += list(pred_idx.cpu().data.numpy())\n",
    "            total_loss_train += loss.item()\n",
    "\n",
    "        train_acc = accuracy_score(z_true_train, z_pred_train)\n",
    "        train_loss = total_loss_train/len(train_dl)\n",
    "        total_train_loss.append(train_loss)\n",
    "        total_train_acc.append(train_acc)\n",
    "        \n",
    "        if val_dl:\n",
    "            z_true_val = list()\n",
    "            z_pred_val = list()\n",
    "            total_loss_val = 0\n",
    "            for ((X,y),z) in tqdm_notebook(iter(val_dl), leave=False):\n",
    "                pred = model(X, y)\n",
    "                z = z.reshape(z.shape[0]*z.shape[1])\n",
    "                loss = loss_fn(pred, z)\n",
    "                pred_idx = torch.max(pred, 1)[1]\n",
    "                z_true_val += list(z.cpu().data.numpy())\n",
    "                z_pred_val += list(pred_idx.cpu().data.numpy())\n",
    "                total_loss_val += loss.item()\n",
    "                \n",
    "            valacc = accuracy_score(z_true_val, z_pred_val)\n",
    "            valloss = total_loss_val/len(val_dl)\n",
    "            print(f'Epoch {epoch+1}: train_loss: {train_loss:.4f} train_acc: {train_acc:.4f} | val_loss: {valloss:.4f} val_acc: {valacc:.4f}')\n",
    "        else:\n",
    "            print(f'Epoch {epoch+1}: train_loss: {train_loss:.4f} train_acc: {train_acc:.4f}')\n",
    "        total_val_loss.append(valloss)\n",
    "        total_val_acc.append(valacc)\n",
    "        \n",
    "        if valloss < prev_val_loss:\n",
    "            save_checkpoint(model, opt, \n",
    "                            total_train_loss,\n",
    "                            total_train_acc,\n",
    "                            total_val_loss,\n",
    "                            total_val_acc, \n",
    "                            lstm_model_file,\n",
    "                            epoch)\n",
    "            prev_val_loss = valloss\n",
    "            counter=0\n",
    "            print(\"This model saved!!!\")\n",
    "        else: \n",
    "            counter += 1\n",
    "            \n",
    "        if counter >= patience_limit: \n",
    "            print(\"Training stopped because maximum tolerance reached!!!\")\n",
    "            break\n",
    "            \n",
    "    return model, opt, total_train_loss, total_train_acc, total_val_loss, total_val_acc"
   ]
  },
  {
   "cell_type": "code",
   "execution_count": 26,
   "metadata": {},
   "outputs": [],
   "source": [
    "class LSTMTagger(nn.Module):\n",
    "    def __init__(self, embedding_dim, hidden_dim, char_dim, batch_size, vocab_size, \n",
    "                 tagset_size, weights, one_hot_weight, bidirection=False, num_layers=1,\n",
    "                char_level=False, pos_level=False, graph_level=False):\n",
    "        super(LSTMTagger, self).__init__()\n",
    "        self.bidirectional = bidirection\n",
    "        self.num_layers = num_layers\n",
    "        self.batch_size = batch_size\n",
    "        self.hidden_dim = hidden_dim\n",
    "        self.embedding_dim = embedding_dim\n",
    "        self.char_embed_num = char_vocab_length\n",
    "        self.graph_embed_num = graph_vocab_length\n",
    "        self.char_dim = char_dim\n",
    "        self.word_embeddings = nn.Embedding.from_pretrained(weights)\n",
    "        self.one_hot_embeddings = nn.Embedding(n_values, n_values, _weight=one_hot_weight)\n",
    "        self.char_embeddings = nn.Embedding(self.char_embed_num, self.char_dim, padding_idx=0)\n",
    "        self.graph_embeddings = nn.Embedding(self.graph_embed_num, self.char_dim, padding_idx=0)\n",
    "        self.char_level=char_level\n",
    "        self.pos_level=pos_level\n",
    "        self.graph_level=graph_level\n",
    "        \n",
    "        nn.init.xavier_uniform_(self.char_embeddings.weight)\n",
    "        nn.init.xavier_uniform_(self.graph_embeddings.weight)\n",
    "        \n",
    "        self.rnn = nn.RNN(embedding_dim, self.hidden_dim, \n",
    "                            bidirectional=self.bidirectional, \n",
    "                            num_layers=self.num_layers)         \n",
    "        \n",
    "        self.lstm = nn.LSTM(embedding_dim, self.hidden_dim, \n",
    "                            bidirectional=self.bidirectional, \n",
    "                            num_layers=self.num_layers)\n",
    "        if self.bidirectional:\n",
    "            self.hidden2tag = nn.Linear(self.hidden_dim * 2, tagset_size)\n",
    "        else:\n",
    "            self.hidden2tag = nn.Linear(self.hidden_dim * 2, tagset_size)      \n",
    "        self.dropout = nn.Dropout(0.5)\n",
    "        self.dropout_embed = nn.Dropout(0.5)\n",
    "        \n",
    "        self.linear1=nn.Linear(self.embedding_dim, self.hidden_dim)\n",
    "        self.linear2=nn.Linear(self.hidden_dim, tagset_size)\n",
    "        \n",
    "        #------------CNN\n",
    "        # Changed here for padding_idx error\n",
    "        self.conv_filter_sizes=[3,4,5]\n",
    "        self.conv_filter_nums=self.char_dim       # 30\n",
    "        self.convs = nn.ModuleList([\n",
    "                                    nn.Conv2d(in_channels = 1, \n",
    "                                              out_channels = self.conv_filter_nums, \n",
    "                                              kernel_size = (fs, self.char_dim)) \n",
    "                                    for fs in self.conv_filter_sizes\n",
    "                                    ])\n",
    "        \n",
    "        self.fc = nn.Linear(len(self.conv_filter_sizes) * self.conv_filter_nums, self.char_dim)\n",
    "\n",
    "    def init_hidden(self, tensor_size):\n",
    "        if self.bidirectional:\n",
    "            h0 = torch.zeros(2 * self.num_layers, tensor_size[1], self.hidden_dim)\n",
    "            c0 = torch.zeros(2 * self.num_layers, tensor_size[1], self.hidden_dim)         \n",
    "        else:\n",
    "            h0 = torch.zeros(self.num_layers, tensor_size[1], self.hidden_dim)\n",
    "            c0 = torch.zeros(self.num_layers, tensor_size[1], self.hidden_dim)         \n",
    "        if device:\n",
    "            h0 = h0.to(device)\n",
    "            c0 = c0.to(device)\n",
    "        return (h0, c0)\n",
    "    \n",
    "    def get_char_tensor(self, X):\n",
    "        words=[]\n",
    "        for i in range(0, len(X)):\n",
    "            character=[]\n",
    "            char_int=[]\n",
    "            chunk = []\n",
    "            bigger_chunk = []\n",
    "            # For character-level\n",
    "            if self.char_level:\n",
    "                character+=\"\".join(str(x) for x in tensortosent(X[i]))\n",
    "                char_int+=(char_field.vocab.stoi[c] for c in character)\n",
    "            # For grapheme-level\n",
    "            else:\n",
    "                character+=[str(x) for x in grapheme_clusters(tensortosent(X[i]))]\n",
    "                char_int+=(graph_field.vocab.stoi[c] for c in character)\n",
    "            words.append(char_int)\n",
    "\n",
    "        # Get the max length of the words in a sentence\n",
    "        length = max(map(len, words))\n",
    "\n",
    "        # Padding to match the max_length words whose size is less than max(filter_size)\n",
    "        if length < max(self.conv_filter_sizes):\n",
    "            length += max(self.conv_filter_sizes) - length\n",
    "\n",
    "        # Zero-padding the unequal sentences\n",
    "        X_char=np.array([xi+[0]*(length-len(xi)) for xi in words])\n",
    "        X_char=torch.from_numpy(X_char)\n",
    "        \n",
    "        return X_char    \n",
    "    \n",
    "    \n",
    "    # ---------------------------------------CHARACTER FORWARD\n",
    "    def _char_forward(self, inputs):\n",
    "        \"\"\"\n",
    "        Args:\n",
    "            inputs: 3D tensor, [bs, max_len]\n",
    "        Returns:\n",
    "            char_conv_outputs: 3D tensor, [bs, max_len, output_dim]\n",
    "        \"\"\"\n",
    "\n",
    "        max_len = inputs.size(1)\n",
    "        inputs=inputs.to(device)\n",
    "        if self.char_level:\n",
    "            input_embed = self.char_embeddings(inputs.to(torch.int64))  # [bs, ml, feature_dim]\n",
    "        else:\n",
    "            input_embed=self.graph_embeddings(inputs.to(torch.int64))\n",
    "        \n",
    "        # Since convolution is 2-dimension, we need 4 dimension tensor\n",
    "        input_embed = input_embed.unsqueeze(1)         # [bs, 1, max_len, feature_dim]\n",
    "        \n",
    "        # conv\n",
    "        conved = [F.relu(conv(input_embed)).squeeze(3) for conv in self.convs]\n",
    "        \n",
    "        pooled = [F.max_pool1d(conv, conv.shape[2]).squeeze(2) for conv in conved]\n",
    "        \n",
    "        cat = self.dropout(torch.cat(pooled, dim = 1))\n",
    "\n",
    "        return self.fc(cat)\n",
    "    \n",
    "    \n",
    "    def forward(self, X, y):\n",
    "#         print(\"Shape of X\", X.shape)\n",
    "        if self.char_level or self.graph_level:\n",
    "            # Get the X_char for each item in a batch here\n",
    "            # And concatenate in the end\n",
    "            # or do it insied get_char_tensor(X)\n",
    "            X_char=self.get_char_tensor(X)\n",
    "#             print(\"Shape of X_char\", X_char.shape)\n",
    "            \n",
    "        X = self.word_embeddings(X)\n",
    "        X = self.dropout_embed(X)\n",
    "\n",
    "        # Do the convolution here\n",
    "        if (self.char_level or self.graph_level):\n",
    "            char_conv = self._char_forward(X_char)\n",
    "            char_conv = char_conv.unsqueeze(1)\n",
    "#             print(\"Shape of char_conv\", char_conv.shape)            \n",
    "            X=torch.cat((X,char_conv), dim=-1)\n",
    "        \n",
    "        # Concatenate POS-embedding here\n",
    "        if self.pos_level:\n",
    "            POS = self.one_hot_embeddings(y)\n",
    "            X=torch.cat((X,POS), dim=-1)\n",
    "            \n",
    "        self.hidden = self.init_hidden(list(X.size()))\n",
    "        '''\n",
    "        This dropout was after LSTM layer, need to run experiment\n",
    "        and check result what happens, if it is kept before LSTM\n",
    "        All other researcher, have generally kept it before LSTM\n",
    "        '''\n",
    "        X = self.dropout(X)          \n",
    "        self.lstm.flatten_parameters()\n",
    "#         print(\"Shape of X before lstm\", X.shape)            \n",
    "        X, _ = self.lstm(X, self.hidden)  \n",
    "#         print(\"Shape of X after lstm\", X.shape)            \n",
    "#         self.rnn.flatten_parameters()   \n",
    "#         X, _ = self.rnn(X, self.hidden[0]) \n",
    "\n",
    "        X = torch.tanh(X)\n",
    "        tag_space = self.hidden2tag(X.view(-1, X.shape[2]))\n",
    "        tag_scores = F.log_softmax(tag_space, dim=1)\n",
    "        return tag_scores\n"
   ]
  },
  {
   "cell_type": "code",
   "execution_count": 27,
   "metadata": {},
   "outputs": [
    {
     "name": "stdout",
     "output_type": "stream",
     "text": [
      "ONLY CHAR or GRAPHEME USED!!!!!!!!\n"
     ]
    },
    {
     "data": {
      "application/vnd.jupyter.widget-view+json": {
       "model_id": "ac19e2ec4ae940ab90565d22fbeaa13c",
       "version_major": 2,
       "version_minor": 0
      },
      "text/plain": [
       "HBox(children=(IntProgress(value=0, max=3), HTML(value='')))"
      ]
     },
     "metadata": {},
     "output_type": "display_data"
    },
    {
     "data": {
      "application/vnd.jupyter.widget-view+json": {
       "model_id": "",
       "version_major": 2,
       "version_minor": 0
      },
      "text/plain": [
       "HBox(children=(IntProgress(value=0, max=2493), HTML(value='')))"
      ]
     },
     "metadata": {},
     "output_type": "display_data"
    },
    {
     "data": {
      "application/vnd.jupyter.widget-view+json": {
       "model_id": "",
       "version_major": 2,
       "version_minor": 0
      },
      "text/plain": [
       "HBox(children=(IntProgress(value=1, bar_style='info', max=1), HTML(value='')))"
      ]
     },
     "metadata": {},
     "output_type": "display_data"
    },
    {
     "name": "stdout",
     "output_type": "stream",
     "text": [
      "Epoch 1: train_loss: 0.2608 train_acc: 0.9211 | val_loss: 0.2188 val_acc: 0.9298\n"
     ]
    },
    {
     "name": "stderr",
     "output_type": "stream",
     "text": [
      "c:\\python36\\lib\\site-packages\\torch\\serialization.py:256: UserWarning: Couldn't retrieve source code for container of type LSTMTagger. It won't be checked for correctness upon loading.\n",
      "  \"type \" + obj.__name__ + \". It won't be checked \"\n"
     ]
    },
    {
     "name": "stdout",
     "output_type": "stream",
     "text": [
      "This model saved!!!\n"
     ]
    },
    {
     "data": {
      "application/vnd.jupyter.widget-view+json": {
       "model_id": "",
       "version_major": 2,
       "version_minor": 0
      },
      "text/plain": [
       "HBox(children=(IntProgress(value=0, max=2493), HTML(value='')))"
      ]
     },
     "metadata": {},
     "output_type": "display_data"
    },
    {
     "data": {
      "application/vnd.jupyter.widget-view+json": {
       "model_id": "",
       "version_major": 2,
       "version_minor": 0
      },
      "text/plain": [
       "HBox(children=(IntProgress(value=1, bar_style='info', max=1), HTML(value='')))"
      ]
     },
     "metadata": {},
     "output_type": "display_data"
    },
    {
     "name": "stdout",
     "output_type": "stream",
     "text": [
      "Epoch 2: train_loss: 0.1814 train_acc: 0.9415 | val_loss: 0.1862 val_acc: 0.9342\n",
      "This model saved!!!\n"
     ]
    },
    {
     "data": {
      "application/vnd.jupyter.widget-view+json": {
       "model_id": "",
       "version_major": 2,
       "version_minor": 0
      },
      "text/plain": [
       "HBox(children=(IntProgress(value=0, max=2493), HTML(value='')))"
      ]
     },
     "metadata": {},
     "output_type": "display_data"
    },
    {
     "data": {
      "application/vnd.jupyter.widget-view+json": {
       "model_id": "",
       "version_major": 2,
       "version_minor": 0
      },
      "text/plain": [
       "HBox(children=(IntProgress(value=1, bar_style='info', max=1), HTML(value='')))"
      ]
     },
     "metadata": {},
     "output_type": "display_data"
    },
    {
     "name": "stdout",
     "output_type": "stream",
     "text": [
      "Epoch 3: train_loss: 0.1569 train_acc: 0.9491 | val_loss: 0.1780 val_acc: 0.9412\n",
      "This model saved!!!\n",
      "\n"
     ]
    },
    {
     "data": {
      "image/png": "[encoded data removed]",
      "text/plain": [
       "<Figure size 576x360 with 1 Axes>"
      ]
     },
     "metadata": {
      "needs_background": "light"
     },
     "output_type": "display_data"
    }
   ],
   "source": [
    "vocab_size = len(txt_field.vocab)\n",
    "CHAR_DIM = 30\n",
    "pos_level=False\n",
    "char_level=True\n",
    "graph_level=False\n",
    "EMBEDDING_DIM = vec.dim\n",
    "\n",
    "if (pos_level and (char_level or graph_level)):\n",
    "    assert(char_level != graph_level),\"Only one variable can be True at a time\"\n",
    "    print(\"POS AND CHAR/GRAPHEME BOTH USED!!!!!!!!\")\n",
    "    EMBEDDING_DIM += n_values + CHAR_DIM\n",
    "elif (char_level or graph_level):\n",
    "    assert(char_level != graph_level),\"Only one variable can be True at a time\"\n",
    "    print(\"ONLY CHAR or GRAPHEME USED!!!!!!!!\")\n",
    "    EMBEDDING_DIM += CHAR_DIM\n",
    "elif pos_level:\n",
    "    print(\"ONLY POS USED!!!!!!!!\")\n",
    "    EMBEDDING_DIM += n_values\n",
    "else:\n",
    "    print(\"NORMAL EMBEDDING USED!!!!!!!!\")\n",
    "\n",
    "HIDDEN_DIM=100\n",
    "tagset_size = len(label_field.vocab)\n",
    "batch_size=1\n",
    "weights = txt_field.vocab.vectors\n",
    "\n",
    "lstm_model = LSTMTagger(EMBEDDING_DIM, HIDDEN_DIM, CHAR_DIM, batch_size=batch_size,\n",
    "                        vocab_size=vocab_size, tagset_size=tagset_size,\n",
    "                        weights=weights,one_hot_weight=one_hot_weight,\n",
    "                        bidirection=True, num_layers=1, char_level=char_level,\n",
    "                       pos_level=pos_level, graph_level=graph_level).to(device)\n",
    "\n",
    "loss_func = nn.NLLLoss()\n",
    "\n",
    "opt = optim.Adam(filter(lambda p: p.requires_grad, lstm_model.parameters()), lr=0.001, weight_decay=0.000001)\n",
    "\n",
    "num_of_epochs=3\n",
    "\n",
    "train_iter, val_iter = data.BucketIterator.splits(datasets=(train_ds, val_ds), \n",
    "                                            batch_sizes=(batch_size, batch_size), \n",
    "                                            sort_key=lambda x: len(x.TEXT), \n",
    "                                            device=device, \n",
    "                                            sort_within_batch=True, \n",
    "                                            repeat=False,\n",
    "                                            shuffle=True)\n",
    "\n",
    "train_batch_it = BatchGenerator(train_iter, 'TEXT', 'POS', 'TAG')\n",
    "val_batch_it = BatchGenerator(val_iter, 'TEXT', 'POS', 'TAG')\n",
    "\n",
    "model_name='lstm'\n",
    "\n",
    "lstm_model_file = './data/models/' + model_name + '.pth'\n",
    "\n",
    "if os.path.exists(lstm_model_file):\n",
    "    os.remove(lstm_model_file)\n",
    "\n",
    "if os.path.exists(lstm_model_file):\n",
    "    lstm_model, opt, lstm_train_loss, lstm_train_acc, lstm_val_loss, lstm_val_acc, epoch = load_checkpoint(lstm_model_file)\n",
    "\n",
    "    print(f'Epoch {epoch}: train_loss: {lstm_train_loss[-1]:.4f} train_acc: {lstm_train_acc[-1]:.4f} | val_loss: {lstm_val_loss[-1]:.4f} val_acc: {lstm_val_acc[-1]:.4f}')\n",
    "    # Resume training (Need to fix it)\n",
    "    if num_of_epochs > epoch:\n",
    "        lstm_model, opt, tmp_train_loss, tmp_train_acc, tmp_val_loss, tmp_val_acc = fit(model=lstm_model,\n",
    "                                                                                       train_dl=train_batch_it, \n",
    "                                                                                       val_dl=val_batch_it, \n",
    "                                                                                       loss_fn=loss_func, \n",
    "                                                                                       opt=opt,\n",
    "                                                                                       start_epoch=epoch,\n",
    "                                                                                       epochs=num_of_epochs)\n",
    "        lstm_train_loss += tmp_train_loss\n",
    "        lstm_train_acc += tmp_train_acc\n",
    "        lstm_val_loss += tmp_val_loss\n",
    "        lstm_val_acc += tmp_val_acc\n",
    "        \n",
    "        save_checkpoint(lstm_model, opt, \n",
    "                        lstm_train_loss,\n",
    "                        lstm_train_acc,\n",
    "                        lstm_val_loss,\n",
    "                        lstm_val_acc,\n",
    "                        lstm_model_file, \n",
    "                        num_of_epochs)\n",
    "\n",
    "else:\n",
    "    lstm_model, opt, lstm_train_loss, lstm_train_acc, lstm_val_loss, lstm_val_acc = fit(model=lstm_model,\n",
    "                                                                                        train_dl=train_batch_it,\n",
    "                                                                                        val_dl=val_batch_it,\n",
    "                                                                                        loss_fn=loss_func,\n",
    "                                                                                        opt=opt,\n",
    "                                                                                        start_epoch=0,\n",
    "                                                                                        lstm_model_file=lstm_model_file,\n",
    "                                                                                        epochs=num_of_epochs)\n",
    "    save_checkpoint(lstm_model, opt, \n",
    "                lstm_train_loss,\n",
    "                lstm_train_acc,\n",
    "                lstm_val_loss,\n",
    "                lstm_val_acc,\n",
    "                lstm_model_file, \n",
    "                num_of_epochs)\n",
    "\n",
    "plot_loss(lstm_train_loss, lstm_val_loss, title='LSTM Model')"
   ]
  },
  {
   "cell_type": "markdown",
   "metadata": {},
   "source": [
    "## Evaluation phase"
   ]
  },
  {
   "cell_type": "code",
   "execution_count": 28,
   "metadata": {},
   "outputs": [
    {
     "name": "stdout",
     "output_type": "stream",
     "text": [
      "Loading best model!!!\n",
      "Writing in file:  ./data/ner/results/lstm_train.txt\n",
      "Writing in file:  ./data/ner/results/lstm_test.txt\n",
      "Writing in file:  ./data/ner/results/lstm_val.txt\n"
     ]
    }
   ],
   "source": [
    "def write_results(model, dataset, train_file, test_file, val_file):\n",
    "\n",
    "    train_iter, test_iter, val_iter = data.BucketIterator.splits(datasets=dataset, \n",
    "                                                batch_sizes=(1, 1, 1), \n",
    "                                                sort_key=lambda x: len(x.TEXT), \n",
    "                                                device=device, \n",
    "                                                sort_within_batch=True, \n",
    "                                                repeat=False,\n",
    "                                                shuffle=False)\n",
    "\n",
    "    train_batch_it = BatchGenerator(train_iter, 'TEXT', 'POS', 'TAG')\n",
    "    test_batch_it = BatchGenerator(test_iter, 'TEXT', 'POS', 'TAG')\n",
    "    val_batch_it = BatchGenerator(val_iter, 'TEXT', 'POS', 'TAG')\n",
    "\n",
    "    with open(train_file, 'w', encoding='utf-8') as rtrn:\n",
    "        model.eval()\n",
    "        print('Writing in file: ',train_file)\n",
    "        for ((X,y),z) in iter(train_batch_it):\n",
    "            sent = NumpyToSent(X)\n",
    "            pred = model(X,y)\n",
    "            pred_idx = torch.max(pred, 1)[1]\n",
    "\n",
    "            z = z.view(-1)\n",
    "            z_true_val = z.cpu().data.numpy().tolist()\n",
    "            true_tag = PredToTag(z_true_val)\n",
    "\n",
    "            z_pred_val = pred_idx.cpu().data.numpy().tolist()\n",
    "            pred_tag = PredToTag(z_pred_val)\n",
    "\n",
    "            for s, gt, pt in zip(sent, true_tag, pred_tag):\n",
    "                rtrn.write(s+' '+gt+' '+pt+'\\n')\n",
    "            rtrn.write('\\n')\n",
    "    rtrn.close()\n",
    "    \n",
    "    with open(test_file, 'w', encoding='utf-8') as rtst:\n",
    "        model.eval()\n",
    "        print('Writing in file: ',test_file)\n",
    "        for ((X,y),z) in iter(test_batch_it):\n",
    "            sent = NumpyToSent(X)\n",
    "            pred = model(X,y)\n",
    "            pred_idx = torch.max(pred, 1)[1]\n",
    "\n",
    "            z = z.view(-1)\n",
    "            z_true_val = z.cpu().data.numpy().tolist()\n",
    "            true_tag = PredToTag(z_true_val)\n",
    "\n",
    "            z_pred_val = pred_idx.cpu().data.numpy().tolist()\n",
    "            pred_tag = PredToTag(z_pred_val)\n",
    "\n",
    "            for s, gt, pt in zip(sent, true_tag, pred_tag):\n",
    "                rtst.write(s+' '+gt+' '+pt+'\\n')\n",
    "            rtst.write('\\n')\n",
    "    rtst.close()\n",
    "    \n",
    "    with open(val_file, 'w', encoding='utf-8') as rval:\n",
    "        model.eval()\n",
    "        print('Writing in file: ',val_file)\n",
    "        for ((X,y),z) in iter(val_batch_it):\n",
    "            sent = NumpyToSent(X)\n",
    "            pred = model(X,y)\n",
    "            pred_idx = torch.max(pred, 1)[1]\n",
    "\n",
    "            z = z.view(-1)\n",
    "            z_true_val = z.cpu().data.numpy().tolist()\n",
    "            true_tag = PredToTag(z_true_val)\n",
    "\n",
    "            z_pred_val = pred_idx.cpu().data.numpy().tolist()\n",
    "            pred_tag = PredToTag(z_pred_val)\n",
    "\n",
    "            for s, gt, pt in zip(sent, true_tag, pred_tag):\n",
    "                rval.write(s+' '+gt+' '+pt+'\\n')\n",
    "            rval.write('\\n')\n",
    "    rval.close()    \n",
    "\n",
    "file_train=model_name +'_train.txt'\n",
    "file_test=model_name +'_test.txt'\n",
    "file_val=model_name +'_val.txt'\n",
    "\n",
    "result_train = './data/ner/results/' + file_train\n",
    "result_test = './data/ner/results/' + file_test\n",
    "result_val = './data/ner/results/' + file_val\n",
    "\n",
    "load_best_model=True\n",
    "if load_best_model:\n",
    "    print(\"Loading best model!!!\")\n",
    "    lstm_model, opt, lstm_train_loss, lstm_train_acc, lstm_val_loss, lstm_val_acc, epoch = load_checkpoint(lstm_model_file)\n",
    "\n",
    "write_results(model=lstm_model, dataset=(train_ds, test_ds, val_ds), \n",
    "              train_file=result_train,\n",
    "              test_file=result_test, \n",
    "              val_file=result_val)"
   ]
  },
  {
   "cell_type": "code",
   "execution_count": 15,
   "metadata": {},
   "outputs": [
    {
     "ename": "NameError",
     "evalue": "name 'result_train' is not defined",
     "output_type": "error",
     "traceback": [
      "\u001b[1;31m---------------------------------------------------------------------------\u001b[0m",
      "\u001b[1;31mNameError\u001b[0m                                 Traceback (most recent call last)",
      "\u001b[1;32m<ipython-input-15-f70dcca6bfe7>\u001b[0m in \u001b[0;36m<module>\u001b[1;34m()\u001b[0m\n\u001b[1;32m----> 1\u001b[1;33m \u001b[0mresult_train\u001b[0m\u001b[1;33m\u001b[0m\u001b[0m\n\u001b[0m",
      "\u001b[1;31mNameError\u001b[0m: name 'result_train' is not defined"
     ]
    }
   ],
   "source": [
    "result_train"
   ]
  },
  {
   "cell_type": "code",
   "execution_count": 14,
   "metadata": {
    "scrolled": true
   },
   "outputs": [
    {
     "ename": "NameError",
     "evalue": "name 'result_train' is not defined",
     "output_type": "error",
     "traceback": [
      "\u001b[1;31m---------------------------------------------------------------------------\u001b[0m",
      "\u001b[1;31mNameError\u001b[0m                                 Traceback (most recent call last)",
      "\u001b[1;32m<ipython-input-14-96ee6488105f>\u001b[0m in \u001b[0;36m<module>\u001b[1;34m()\u001b[0m\n\u001b[0;32m      3\u001b[0m     \u001b[0mYou\u001b[0m \u001b[0mneed\u001b[0m \u001b[0mto\u001b[0m \u001b[0mrun\u001b[0m \u001b[0mseparately\u001b[0m\u001b[1;33m\u001b[0m\u001b[0m\n\u001b[0;32m      4\u001b[0m \"\"\"\n\u001b[1;32m----> 5\u001b[1;33m \u001b[0me\u001b[0m\u001b[1;33m.\u001b[0m\u001b[0mevaluate_conll_file\u001b[0m\u001b[1;33m(\u001b[0m\u001b[1;34m'./logs/conll_log1.txt'\u001b[0m\u001b[1;33m,\u001b[0m \u001b[0mresult_train\u001b[0m\u001b[1;33m)\u001b[0m\u001b[1;33m\u001b[0m\u001b[0m\n\u001b[0m",
      "\u001b[1;31mNameError\u001b[0m: name 'result_train' is not defined"
     ]
    }
   ],
   "source": [
    "\"\"\"\n",
    "    These are NOT actual CONLL evaluation\n",
    "    You need to run separately\n",
    "\"\"\"\n",
    "e.evaluate_conll_file('./logs/conll_log1.txt', result_train)"
   ]
  },
  {
   "cell_type": "code",
   "execution_count": null,
   "metadata": {},
   "outputs": [],
   "source": [
    "e.evaluate_conll_file(result_test)"
   ]
  },
  {
   "cell_type": "code",
   "execution_count": null,
   "metadata": {},
   "outputs": [],
   "source": [
    "e.evaluate_conll_file(result_val)"
   ]
  },
  {
   "cell_type": "code",
   "execution_count": null,
   "metadata": {},
   "outputs": [
    {
     "name": "stdout",
     "output_type": "stream",
     "text": [
      "Completed everything"
     ]
    }
   ],
   "source": [
    "import os\n",
    "print('Completed everything')\n",
    "os._exit(0)"
   ]
  },
  {
   "cell_type": "code",
   "execution_count": null,
   "metadata": {},
   "outputs": [],
   "source": [
    "import matplotlib.pyplot as plt\n",
    "\n",
    "def get_truth_pred(fileName):\n",
    "    true_seqs, pred_seqs = [], []\n",
    "    \n",
    "    with open(fileName, 'r', encoding='utf-8') as f:\n",
    "        for line in f:\n",
    "            cols = line.strip().split()\n",
    "            # each non-empty line must contain >= 3 columns\n",
    "            if not cols:\n",
    "                true_seqs.append('O')\n",
    "                pred_seqs.append('O')\n",
    "            elif len(cols) < 3:\n",
    "                raise IOError(\"conlleval: too few columns in line %s\\n\" % line)\n",
    "            else:\n",
    "                # extract tags from last 2 columns\n",
    "                true_seqs.append(cols[-2])\n",
    "                pred_seqs.append(cols[-1])\n",
    "    return true_seqs, pred_seqs\n",
    "\n",
    "def plot_confusion_matrix(y_true, y_pred, classes,\n",
    "                          normalize=False,\n",
    "                          title=None,\n",
    "                          cmap=plt.cm.Blues):\n",
    "    \"\"\"\n",
    "    This function prints and plots the confusion matrix.\n",
    "    Normalization can be applied by setting `normalize=True`.\n",
    "    \"\"\"\n",
    "    if not title:\n",
    "        if normalize:\n",
    "            title = 'Normalized confusion matrix'\n",
    "        else:\n",
    "            title = 'Confusion matrix, without normalization'\n",
    "\n",
    "    # Compute confusion matrix\n",
    "    cm = confusion_matrix(y_true, y_pred)\n",
    "    # Only use the labels that appear in the data\n",
    "    classes = classes\n",
    "    if normalize:\n",
    "        cm = cm.astype('float') / cm.sum(axis=1)[:, np.newaxis]\n",
    "        print(\"Normalized confusion matrix\")\n",
    "    else:\n",
    "        print('Confusion matrix, without normalization')\n",
    "\n",
    "#     print(cm)\n",
    "\n",
    "    fig, ax = plt.subplots()\n",
    "    im = ax.imshow(cm, interpolation='nearest', cmap=cmap)\n",
    "    ax.figure.colorbar(im, ax=ax)\n",
    "    # We want to show all ticks...\n",
    "    ax.set(xticks=np.arange(cm.shape[1]),\n",
    "           yticks=np.arange(cm.shape[0]),\n",
    "           # ... and label them with the respective list entries\n",
    "           xticklabels=classes, yticklabels=classes,\n",
    "           title=title,\n",
    "           ylabel='True label',\n",
    "           xlabel='Predicted label')\n",
    "\n",
    "    # Rotate the tick labels and set their alignment.\n",
    "    plt.setp(ax.get_xticklabels(), rotation=45, ha=\"right\",\n",
    "             rotation_mode=\"anchor\")\n",
    "\n",
    "    # Loop over data dimensions and create text annotations.\n",
    "    fmt = '.2f' if normalize else 'd'\n",
    "    thresh = cm.max() / 2.\n",
    "    for i in range(cm.shape[0]):\n",
    "        for j in range(cm.shape[1]):\n",
    "            ax.text(j, i, format(cm[i, j], fmt),\n",
    "                    ha=\"center\", va=\"center\",\n",
    "                    color=\"white\" if cm[i, j] > thresh else \"black\")\n",
    "    fig.tight_layout()\n",
    "    return ax\n",
    "\n",
    "def display_confusion_matrix(filename, title):\n",
    "    y_true, y_pred = get_truth_pred(filename)\n",
    "    labels=[\"B-PER\", \"B-LOC\", \"B-ORG\", \"B-MISC\", \"I-PER\", \"I-LOC\", \"I-ORG\", \"I-MISC\", \"O\", \"<pad>\"]\n",
    "    labels=[\"PER\", \"LOC\", \"ORG\", \"MISC\", \"O\", \"<pad>\"]\n",
    "    \n",
    "#     tag_dict = {\"B-PER\": 0, \"B-LOC\": 1, \"B-ORG\": 2, \"B-MISC\" : 3, \"I-PER\": 4, \"I-LOC\": 5, \"I-ORG\": 6, \"I-MISC\":7, \"O\": 8, '<pad>':9}\n",
    "    tag_dict = {\"PER\": 0, \"LOC\": 1, \"ORG\": 2, \"MISC\" : 3, \"O\": 4, '<pad>':5}\n",
    "\n",
    "    y_true_final = list(map(tag_dict.get, y_true))\n",
    "    y_pred_final = list(map(tag_dict.get, y_pred))\n",
    "\n",
    "    plot_confusion_matrix(y_true_final, y_pred_final, classes=labels, normalize=False, title=title)"
   ]
  },
  {
   "cell_type": "code",
   "execution_count": null,
   "metadata": {},
   "outputs": [],
   "source": [
    "display_confusion_matrix(result_train, 'Confusion matrix on train data')"
   ]
  },
  {
   "cell_type": "code",
   "execution_count": null,
   "metadata": {},
   "outputs": [],
   "source": [
    "display_confusion_matrix(result_test, 'Confusion matrix on test data')"
   ]
  },
  {
   "cell_type": "code",
   "execution_count": null,
   "metadata": {},
   "outputs": [],
   "source": [
    "display_confusion_matrix(result_val, 'Confusion matrix on val data')"
   ]
  },
  {
   "cell_type": "code",
   "execution_count": null,
   "metadata": {},
   "outputs": [],
   "source": [
    "pd.options.display.max_rows = 999\n",
    "'''\n",
    "    Get the TP/FP/FN based on PER/ORG/LOC TAG only\n",
    "'''\n",
    "def get_stats(src_file, dest_file):\n",
    "    df = pd.read_csv(src_file, delimiter=' ', encoding='utf-8', skip_blank_lines=True, quoting=csv.QUOTE_NONE, header=None, names=['TEXT', 'GT', 'PT'])\n",
    "    entity_df = df[(df.PT == 'ORG') | (df.PT == 'PER') | (df.PT == 'LOC') | (df.GT == 'ORG') | (df.GT == 'PER') | (df.GT == 'LOC') | (df.GT == 'MISC') | (df.PT == 'MISC')].reset_index(drop=True)\n",
    "    \n",
    "    num_of_words = len(entity_df)\n",
    "\n",
    "    acc_df = entity_df[entity_df.GT == entity_df.PT].reset_index(drop=True)\n",
    "\n",
    "    org_tp = acc_df[acc_df.GT == 'ORG'].reset_index(drop=True)\n",
    "    org_tp['COMMENTS']='ORG_TP'\n",
    "    per_tp = acc_df[acc_df.GT == 'PER'].reset_index(drop=True)\n",
    "    per_tp['COMMENTS']='PER_TP'\n",
    "    loc_tp = acc_df[acc_df.GT == 'LOC'].reset_index(drop=True)\n",
    "    loc_tp['COMMENTS']='LOC_TP'\n",
    "    misc_tp = acc_df[acc_df.GT == 'MISC'].reset_index(drop=True)\n",
    "    misc_tp['COMMENTS']='MISC_TP'\n",
    "\n",
    "    org_fn = entity_df[(entity_df.GT == 'ORG') & (entity_df.PT != 'ORG')].reset_index(drop=True)\n",
    "    org_fn['COMMENTS']='ORG_FN'\n",
    "    per_fn = entity_df[(entity_df.GT == 'PER') & (entity_df.PT != 'PER')].reset_index(drop=True)\n",
    "    per_fn['COMMENTS']='PER_FN'\n",
    "    loc_fn = entity_df[(entity_df.GT == 'LOC') & (entity_df.PT != 'LOC')].reset_index(drop=True)\n",
    "    loc_fn['COMMENTS']='LOC_FN'\n",
    "    misc_fn = entity_df[(entity_df.GT == 'MISC') & (entity_df.PT != 'MISC')].reset_index(drop=True)\n",
    "    misc_fn['COMMENTS']='MISC_FN'    \n",
    "\n",
    "    org_fp = entity_df[(entity_df.PT == 'ORG') & (entity_df.GT != 'ORG')].reset_index(drop=True)\n",
    "    org_fp['COMMENTS']='ORG_FP'\n",
    "    per_fp = entity_df[(entity_df.PT == 'PER') & (entity_df.GT != 'PER')].reset_index(drop=True)\n",
    "    per_fp['COMMENTS']='PER_FP'\n",
    "    loc_fp = entity_df[(entity_df.PT == 'LOC') & (entity_df.GT != 'LOC')].reset_index(drop=True)\n",
    "    loc_fp['COMMENTS']='LOC_FP'\n",
    "    misc_fp = entity_df[(entity_df.PT == 'MISC') & (entity_df.GT != 'MISC')].reset_index(drop=True)\n",
    "    misc_fp['COMMENTS']='MISC_FP'    \n",
    "    \n",
    "    final_df=pd.concat([org_tp, per_tp, loc_tp, misc_tp, org_fn, per_fn, loc_fn, misc_fn, org_fp, per_fp, loc_fp, misc_fp], ignore_index=True)\n",
    "    final_df.to_csv(dest_file, sep='\\t',encoding='utf-8',index=False,header=True)\n",
    "    return final_df\n",
    "\n",
    "file=file_train\n",
    "root='../data/ner/results/'\n",
    "source_file = root+file\n",
    "dest_file=root+'stat_'+file\n",
    "result_df=get_stats(source_file, dest_file)"
   ]
  },
  {
   "cell_type": "code",
   "execution_count": null,
   "metadata": {},
   "outputs": [],
   "source": [
    "result_df[(result_df.COMMENTS=='LOC_FN')]"
   ]
  },
  {
   "cell_type": "code",
   "execution_count": null,
   "metadata": {},
   "outputs": [],
   "source": [
    "count_df=result_df[result_df.COMMENTS=='ORG_FN']\n",
    "\n",
    "list_text=list(count_df.TEXT.values)\n",
    "\n",
    "import collections\n",
    "counter=collections.Counter(list_text)\n",
    "print(counter)"
   ]
  },
  {
   "cell_type": "code",
   "execution_count": null,
   "metadata": {},
   "outputs": [],
   "source": []
  },
  {
   "cell_type": "code",
   "execution_count": null,
   "metadata": {},
   "outputs": [],
   "source": []
  }
 ],
 "metadata": {
  "kernelspec": {
   "display_name": "Python 3",
   "language": "python",
   "name": "python3"
  },
  "language_info": {
   "codemirror_mode": {
    "name": "ipython",
    "version": 3
   },
   "file_extension": ".py",
   "mimetype": "text/x-python",
   "name": "python",
   "nbconvert_exporter": "python",
   "pygments_lexer": "ipython3",
   "version": "3.6.6rc1"
  }
 },
 "nbformat": 4,
 "nbformat_minor": 2
}
